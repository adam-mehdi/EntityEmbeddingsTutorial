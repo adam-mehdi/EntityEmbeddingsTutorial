{
  "nbformat": 4,
  "nbformat_minor": 0,
  "metadata": {
    "colab": {
      "name": "EntityEmbeddings.ipynb",
      "provenance": [],
      "collapsed_sections": [
        "2evRWrKBGgen",
        "hVsyLIhwxZFJ",
        "6JBAssGHW35u"
      ]
    },
    "kernelspec": {
      "name": "python3",
      "display_name": "Python 3"
    },
    "accelerator": "GPU"
  },
  "cells": [
    {
      "cell_type": "code",
      "metadata": {
        "id": "RyJppz8w736X"
      },
      "source": [
        "!pip install fastai==2.2.5 -Uqq\n",
        "!pip install fastcore -Uqq\n",
        "!pip install nbdev -Uqq"
      ],
      "execution_count": 1,
      "outputs": []
    },
    {
      "cell_type": "code",
      "metadata": {
        "id": "pclRgkTn8CKe"
      },
      "source": [
        "from fastai.tabular.all import *\n",
        "from fastcore.utils import *\n",
        "from sklearn.metrics import roc_auc_score\n",
        "from sklearn.ensemble import RandomForestClassifier"
      ],
      "execution_count": 2,
      "outputs": []
    },
    {
      "cell_type": "markdown",
      "metadata": {
        "id": "2evRWrKBGgen"
      },
      "source": [
        "## Neural Net"
      ]
    },
    {
      "cell_type": "markdown",
      "metadata": {
        "id": "cqhdiwCVGh0M"
      },
      "source": [
        "I use a simple dataset from Kaggle's March Tabular Playground Series. Download these data [here](https://www.kaggle.com/c/tabular-playground-series-mar-2021/data)."
      ]
    },
    {
      "cell_type": "code",
      "metadata": {
        "id": "_gW2keG2i5B_"
      },
      "source": [
        "# !unzip '/content/train.csv'\n",
        "# !unzip '/content/test.csv'"
      ],
      "execution_count": null,
      "outputs": []
    },
    {
      "cell_type": "code",
      "metadata": {
        "id": "REntZEUTGKK0"
      },
      "source": [
        "df_nn = pd.read_csv('/content/train.csv', low_memory=False)\n",
        "df_nn_final = df_nn.drop('id', axis=1)"
      ],
      "execution_count": 5,
      "outputs": []
    },
    {
      "cell_type": "code",
      "metadata": {
        "id": "F75O24RdI37j"
      },
      "source": [
        "cont,cat = cont_cat_split(df_nn_final, max_card=9000, dep_var='target')\n",
        "procs_nn = [Categorify, Normalize]\n",
        "splits = RandomSplitter(seed=23)(df_nn_final)\n",
        "device = torch.device('cuda' if torch.cuda.is_available() else 'cpu')\n",
        "\n",
        "to_nn = TabularPandas(df_nn, procs_nn, cat, cont,\n",
        "                      splits=splits, y_names='target')\n",
        "dls = to_nn.dataloaders(1024, device = device)"
      ],
      "execution_count": 6,
      "outputs": []
    },
    {
      "cell_type": "code",
      "metadata": {
        "id": "PKshRzhOI7C_",
        "colab": {
          "base_uri": "https://localhost:8080/",
          "height": 300
        },
        "outputId": "de84c891-9650-4fdc-8f82-2e28a1153aa9"
      },
      "source": [
        "learn = tabular_learner(dls, layers=[500,250], n_out=1)\n",
        "learn.fit_one_cycle(8, 5e-4)"
      ],
      "execution_count": 7,
      "outputs": [
        {
          "output_type": "display_data",
          "data": {
            "text/html": [
              "<table border=\"1\" class=\"dataframe\">\n",
              "  <thead>\n",
              "    <tr style=\"text-align: left;\">\n",
              "      <th>epoch</th>\n",
              "      <th>train_loss</th>\n",
              "      <th>valid_loss</th>\n",
              "      <th>time</th>\n",
              "    </tr>\n",
              "  </thead>\n",
              "  <tbody>\n",
              "    <tr>\n",
              "      <td>0</td>\n",
              "      <td>0.120530</td>\n",
              "      <td>0.117045</td>\n",
              "      <td>00:05</td>\n",
              "    </tr>\n",
              "    <tr>\n",
              "      <td>1</td>\n",
              "      <td>0.115052</td>\n",
              "      <td>0.114975</td>\n",
              "      <td>00:05</td>\n",
              "    </tr>\n",
              "    <tr>\n",
              "      <td>2</td>\n",
              "      <td>0.110268</td>\n",
              "      <td>0.111879</td>\n",
              "      <td>00:05</td>\n",
              "    </tr>\n",
              "    <tr>\n",
              "      <td>3</td>\n",
              "      <td>0.106003</td>\n",
              "      <td>0.111814</td>\n",
              "      <td>00:05</td>\n",
              "    </tr>\n",
              "    <tr>\n",
              "      <td>4</td>\n",
              "      <td>0.103692</td>\n",
              "      <td>0.111779</td>\n",
              "      <td>00:05</td>\n",
              "    </tr>\n",
              "    <tr>\n",
              "      <td>5</td>\n",
              "      <td>0.099670</td>\n",
              "      <td>0.111492</td>\n",
              "      <td>00:05</td>\n",
              "    </tr>\n",
              "    <tr>\n",
              "      <td>6</td>\n",
              "      <td>0.095625</td>\n",
              "      <td>0.111328</td>\n",
              "      <td>00:05</td>\n",
              "    </tr>\n",
              "    <tr>\n",
              "      <td>7</td>\n",
              "      <td>0.094228</td>\n",
              "      <td>0.111272</td>\n",
              "      <td>00:05</td>\n",
              "    </tr>\n",
              "  </tbody>\n",
              "</table>"
            ],
            "text/plain": [
              "<IPython.core.display.HTML object>"
            ]
          },
          "metadata": {
            "tags": []
          }
        }
      ]
    },
    {
      "cell_type": "code",
      "metadata": {
        "id": "sE4ju8zA16Kt",
        "colab": {
          "base_uri": "https://localhost:8080/",
          "height": 34
        },
        "outputId": "23a4c26c-2849-47ac-aaa1-5e98d28f6561"
      },
      "source": [
        "preds,targs = learn.get_preds()\n",
        "roc_auc_score(targs, preds)"
      ],
      "execution_count": 8,
      "outputs": [
        {
          "output_type": "display_data",
          "data": {
            "text/html": [
              ""
            ],
            "text/plain": [
              "<IPython.core.display.HTML object>"
            ]
          },
          "metadata": {
            "tags": []
          }
        },
        {
          "output_type": "execute_result",
          "data": {
            "text/plain": [
              "0.8820512252460494"
            ]
          },
          "metadata": {
            "tags": []
          },
          "execution_count": 8
        }
      ]
    },
    {
      "cell_type": "code",
      "metadata": {
        "id": "i0L1Y3XQJALP",
        "colab": {
          "base_uri": "https://localhost:8080/"
        },
        "outputId": "07c384f4-2cab-49a5-bb10-05400928c8d8"
      },
      "source": [
        "learn.save('learn8')"
      ],
      "execution_count": 9,
      "outputs": [
        {
          "output_type": "execute_result",
          "data": {
            "text/plain": [
              "Path('models/learn8.pth')"
            ]
          },
          "metadata": {
            "tags": []
          },
          "execution_count": 9
        }
      ]
    },
    {
      "cell_type": "markdown",
      "metadata": {
        "id": "hVsyLIhwxZFJ"
      },
      "source": [
        "## Machine Learning Models"
      ]
    },
    {
      "cell_type": "code",
      "metadata": {
        "id": "2GX2sKZC8CHG"
      },
      "source": [
        "df = pd.read_csv('/content/train.csv', low_memory=False)"
      ],
      "execution_count": 10,
      "outputs": []
    },
    {
      "cell_type": "code",
      "metadata": {
        "id": "GH343gZoMHnD"
      },
      "source": [
        "# using the neural net's `cat`, `cont`, and `splits`\n",
        "procs = [Categorify]\n",
        "to = TabularPandas(df, procs, cat, cont, 'target', splits = splits)"
      ],
      "execution_count": 11,
      "outputs": []
    },
    {
      "cell_type": "code",
      "metadata": {
        "id": "GZERQoeCInKT"
      },
      "source": [
        "def rf(xs, y, n_estimators=40, max_samples=130_000,\n",
        "       max_features=0.5, min_samples_leaf=5, **kwargs):\n",
        "    return RandomForestClassifier(n_jobs=-1, n_estimators=n_estimators,\n",
        "        max_samples=max_samples, max_features=max_features,\n",
        "        min_samples_leaf=min_samples_leaf).fit(xs, y)"
      ],
      "execution_count": 12,
      "outputs": []
    },
    {
      "cell_type": "code",
      "metadata": {
        "id": "xSetEL0_PIBD"
      },
      "source": [
        "def auc(m, xs, y):\n",
        "  preds = m.predict(xs)\n",
        "  return round(roc_auc_score(y, preds), 3)"
      ],
      "execution_count": 13,
      "outputs": []
    },
    {
      "cell_type": "markdown",
      "metadata": {
        "id": "6JBAssGHW35u"
      },
      "source": [
        "## Replacing Nominal Variables with Embeddings"
      ]
    },
    {
      "cell_type": "code",
      "metadata": {
        "id": "1qREOUXZyQhU"
      },
      "source": [
        "learn = learn.load('/content/models/learn8')"
      ],
      "execution_count": 15,
      "outputs": []
    },
    {
      "cell_type": "code",
      "metadata": {
        "id": "LhyYJmcsW9sS"
      },
      "source": [
        "def embed_features(learner, xs):\n",
        "  \"\"\"\n",
        "  learner: fastai Learner used to train the neural net\n",
        "  xs: DataFrame containing input variables with nominal values defined by their rank.\n",
        "  ::returns:: a copy of `xs` with embeddings replacing each categorical variable\n",
        "  \"\"\"\n",
        "  xs = xs.copy()\n",
        "  for i,col in enumerate(learn.dls.cat_names):\n",
        "    emb = learn.model.embeds[i]\n",
        "    emb_data = emb(tensor(xs[col], dtype=torch.int64).to(device))\n",
        "    emb_names = [f'{col}_{j}' for j in range(emb_data.shape[1])]\n",
        "    feat_df = pd.DataFrame(data=emb_data, index=xs.index, columns=emb_names)\n",
        "    xs = xs.drop(col, axis=1)\n",
        "    xs = xs.join(feat_df)\n",
        "  return xs"
      ],
      "execution_count": 19,
      "outputs": []
    },
    {
      "cell_type": "code",
      "metadata": {
        "id": "qgLDdFIYW9p0"
      },
      "source": [
        "emb_xs = embed_features(learn, to.train.xs)\n",
        "emb_valid_xs = embed_features(learn, to.valid.xs)"
      ],
      "execution_count": 20,
      "outputs": []
    },
    {
      "cell_type": "code",
      "metadata": {
        "id": "cerJ6UKhhSgr"
      },
      "source": [
        "save_pickle('/content/emb_xs', emb_xs)\n",
        "save_pickle('/content/emb_valid_xs', emb_valid_xs)"
      ],
      "execution_count": 21,
      "outputs": []
    },
    {
      "cell_type": "markdown",
      "metadata": {
        "id": "Mqz2PkZ4h_q7"
      },
      "source": [
        "I index into a subset of the data to speed up the experimental evaluation (to determine if the entity embeddings are working)."
      ]
    },
    {
      "cell_type": "code",
      "metadata": {
        "id": "3U4XGKVI3lW9",
        "colab": {
          "base_uri": "https://localhost:8080/"
        },
        "outputId": "16b0e3d0-ac67-4a12-a261-e0401c4a5971"
      },
      "source": [
        "m_cat = rf(to.train.xs.iloc[:50_000], to.train.y.iloc[:50_000], max_samples=25_000)\n",
        "auc(m_cat, to.train.xs, to.train.y), auc(m_cat, to.valid.xs, to.valid.y)"
      ],
      "execution_count": 28,
      "outputs": [
        {
          "output_type": "execute_result",
          "data": {
            "text/plain": [
              "(0.777, 0.764)"
            ]
          },
          "metadata": {
            "tags": []
          },
          "execution_count": 28
        }
      ]
    },
    {
      "cell_type": "code",
      "metadata": {
        "colab": {
          "base_uri": "https://localhost:8080/"
        },
        "id": "YmEQvugE4SSL",
        "outputId": "f56a6c9c-c387-4c36-fcc7-4186393b3117"
      },
      "source": [
        "# this cell will take a minute\n",
        "m_emb = rf(emb_xs.iloc[:50_000], to.train.y.iloc[:50_000], max_samples=25_000)\n",
        "auc(m_emb, emb_xs, to.train.y), auc(m_emb, emb_valid_xs, to.valid.y)"
      ],
      "execution_count": 27,
      "outputs": [
        {
          "output_type": "execute_result",
          "data": {
            "text/plain": [
              "(0.782, 0.768)"
            ]
          },
          "metadata": {
            "tags": []
          },
          "execution_count": 27
        }
      ]
    },
    {
      "cell_type": "markdown",
      "metadata": {
        "id": "CMm1vtOthsjs"
      },
      "source": [
        "The results above indicate the performance improvement we get from replacing categorical variables with more informative entity embeddings. Entity embeddings perform best when representing inherently continuous features with high cardinality, but you should see a modest boost in performance in any data (given no change in hyperparameters; if we tune the hyperparameters, the performance will further increase).\n",
        "\n",
        "You might have noticed that the model training on the entity embeddings took longer. My article [Entity Embeddings for ML](https://towardsdatasciencecomentity-embeddings-for-ml-2387eb68e49#34da-7ef1c93bb9cd) explains why this is so under the `Feature selection` section. For here, though, we'll jump to a solution to that problem: selecting the most salient features and only using those."
      ]
    },
    {
      "cell_type": "markdown",
      "metadata": {
        "id": "Yro4lxVC5WHl"
      },
      "source": [
        "## Feature Selection"
      ]
    },
    {
      "cell_type": "code",
      "metadata": {
        "id": "_UOy3pHIhIlR"
      },
      "source": [
        "def rf_feat_importance(m, df):\n",
        "  return pd.DataFrame({'cols':df.columns, 'imp':m.feature_importances_,\n",
        "                       }).sort_values('imp', ascending=False)"
      ],
      "execution_count": 29,
      "outputs": []
    },
    {
      "cell_type": "code",
      "metadata": {
        "colab": {
          "base_uri": "https://localhost:8080/",
          "height": 265
        },
        "id": "tYlAt_zh7lms",
        "outputId": "0ffc600e-088a-498c-f080-2125d86fc591"
      },
      "source": [
        "fi = rf_feat_importance(m_emb, emb_xs)\n",
        "fi[:20].plot('cols', 'imp', 'barh', legend=False);"
      ],
      "execution_count": 38,
      "outputs": [
        {
          "output_type": "display_data",
          "data": {
            "image/png": "[encoded data removed]",
            "text/plain": [
              "<Figure size 432x288 with 1 Axes>"
            ]
          },
          "metadata": {
            "tags": [],
            "needs_background": "light"
          }
        }
      ]
    },
    {
      "cell_type": "code",
      "metadata": {
        "colab": {
          "base_uri": "https://localhost:8080/"
        },
        "id": "KauerPx59ZM-",
        "outputId": "1b821092-edd0-4e47-ca57-8ea4bca80128"
      },
      "source": [
        "to_keep = fi[fi['imp']>.005].cols\n",
        "len(to_keep)"
      ],
      "execution_count": 45,
      "outputs": [
        {
          "output_type": "execute_result",
          "data": {
            "text/plain": [
              "26"
            ]
          },
          "metadata": {
            "tags": []
          },
          "execution_count": 45
        }
      ]
    },
    {
      "cell_type": "markdown",
      "metadata": {
        "id": "qzSYvcUYhbAS"
      },
      "source": [
        "Usually we experiment with the amount of columns to keep: we want as little features as possible without any meaningful drop in performance."
      ]
    },
    {
      "cell_type": "code",
      "metadata": {
        "id": "rK6JxhB598Wb"
      },
      "source": [
        "xs_filt = emb_xs[to_keep]\n",
        "valid_xs_filt = emb_valid_xs[to_keep]"
      ],
      "execution_count": 46,
      "outputs": []
    },
    {
      "cell_type": "code",
      "metadata": {
        "id": "nGwMs3IZ8EgM"
      },
      "source": [
        "save_pickle('/content/valid_emb_filt', valid_xs_filt)\n",
        "save_pickle('/content/train_emb_filt', xs_filt)"
      ],
      "execution_count": 47,
      "outputs": []
    },
    {
      "cell_type": "code",
      "metadata": {
        "id": "AJ8U9_r0987G",
        "colab": {
          "base_uri": "https://localhost:8080/"
        },
        "outputId": "5e0d6791-cdf7-4318-ad84-b6977daeb8e8"
      },
      "source": [
        "# this cell will take a couple minutes\n",
        "m_filt = rf(xs_filt, to.train.y, min_samples_leaf=10)\n",
        "auc(m_filt, xs_filt, to.train.y), auc(m_filt, valid_xs_filt, to.valid.y)"
      ],
      "execution_count": 48,
      "outputs": [
        {
          "output_type": "execute_result",
          "data": {
            "text/plain": [
              "(0.841, 0.766)"
            ]
          },
          "metadata": {
            "tags": []
          },
          "execution_count": 48
        }
      ]
    },
    {
      "cell_type": "markdown",
      "metadata": {
        "id": "yKaleVFP767S"
      },
      "source": [
        "## Inference"
      ]
    },
    {
      "cell_type": "markdown",
      "metadata": {
        "id": "3Acmi0WZuTfk"
      },
      "source": [
        "Let's try to apply our neural net and random forest that we trained to a test dataset in an ensemble."
      ]
    },
    {
      "cell_type": "code",
      "metadata": {
        "id": "O_f7hbRf78bX"
      },
      "source": [
        "test_df = pd.read_csv('/content/test.csv', low_memory=False)\n",
        "test_df = test_df.drop('id', axis=1)\n",
        "test_dl = dls.test_dl(test_df)\n",
        "emb_test_xs = embed_features(learn, test_dl.dataset.xs)\n",
        "filt_emb_test_xs = emb_test_xs[to_keep]"
      ],
      "execution_count": 49,
      "outputs": []
    },
    {
      "cell_type": "code",
      "metadata": {
        "id": "X12subrc7pze"
      },
      "source": [
        "save_pickle('/content/emb_test_filt', test_df)"
      ],
      "execution_count": 50,
      "outputs": []
    },
    {
      "cell_type": "code",
      "metadata": {
        "colab": {
          "base_uri": "https://localhost:8080/",
          "height": 17
        },
        "id": "rbVyamFi8Szn",
        "outputId": "7379accb-4dff-4cfc-ee6c-43bb22a6a82e"
      },
      "source": [
        "# NN inference\n",
        "test_dl = dls.test_dl(test_df)\n",
        "preds_nn,_ = learn.get_preds(dl=test_dl)\n",
        "preds_nn = preds_nn.numpy().squeeze(1)"
      ],
      "execution_count": 59,
      "outputs": [
        {
          "output_type": "display_data",
          "data": {
            "text/html": [
              ""
            ],
            "text/plain": [
              "<IPython.core.display.HTML object>"
            ]
          },
          "metadata": {
            "tags": []
          }
        }
      ]
    },
    {
      "cell_type": "code",
      "metadata": {
        "id": "quXlKu0Y-ANs"
      },
      "source": [
        "# RF inference\n",
        "preds_rf = m_filt.predict_proba(filt_emb_test_xs)[:,1]"
      ],
      "execution_count": 79,
      "outputs": []
    },
    {
      "cell_type": "code",
      "metadata": {
        "colab": {
          "base_uri": "https://localhost:8080/"
        },
        "id": "rFz9z3Oete8M",
        "outputId": "f3a82ff2-fec8-4228-f636-2389c6494003"
      },
      "source": [
        "# simple ensemble\n",
        "preds_ensemble = (preds_rf + preds.numpy().squeeze(1))/2\n",
        "preds_ensemble"
      ],
      "execution_count": 82,
      "outputs": [
        {
          "output_type": "execute_result",
          "data": {
            "text/plain": [
              "array([0.19655791, 0.43095821, 0.14695506, ..., 0.697493  , 0.24956956,\n",
              "       0.4743461 ])"
            ]
          },
          "metadata": {
            "tags": []
          },
          "execution_count": 82
        }
      ]
    },
    {
      "cell_type": "markdown",
      "metadata": {
        "id": "fnoAh3Fqp6-y"
      },
      "source": [
        "Congratulations! You have now obtained a more informative and flexible representation of your categorical data. Good luck with whatever you are planning to do with it; may your projects proceed ever smoothly."
      ]
    }
  ]
}